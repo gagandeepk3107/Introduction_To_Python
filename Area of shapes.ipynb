{
 "cells": [
  {
   "cell_type": "markdown",
   "metadata": {},
   "source": [
    "# Python Programming\n"
   ]
  },
  {
   "cell_type": "markdown",
   "metadata": {},
   "source": [
    "### Problem 1:\n",
    "\n",
    "1. Write a program to calculate area of shapes. Your program should be capable of calculating the area of a square, rectangle, triangle and a circle. The user should be presented with options to select the shape. Based on which shape is chosed by the user, the program should ask for the appropriate input and print the resulting area on the screen.\n",
    "\n",
    "When the program is run, the screen should display something like this:\n",
    "\n",
    "**Which shape would you like to calculate the area for? Please enter the option number-**<br>\n",
    "**1. Square**<br>\n",
    "**2. Rectangle**<br>\n",
    "**3. Triangle**<br>\n",
    "**4. Circle**<br>\n",
    "**Enter Option: _**\n",
    "\n",
    "Say the user enters the option 1.\n",
    "\n",
    "**Please enter the length of a side: _**\n",
    "\n",
    "If the user enters a value of 5. The output should be:\n",
    "\n",
    "**The area of the square is 25**\n",
    "\n",
    "This program should indicate that the input is invalid if the user enters a character instead of a number as input. For instance if the user enters a value of ‘a’ instead of 5 in the previous example the program should prompt:\n",
    "\n",
    "**Invalid input, please enter a number: _**\n"
   ]
  },
  {
   "cell_type": "code",
   "execution_count": 3,
   "metadata": {},
   "outputs": [
    {
     "name": "stdout",
     "output_type": "stream",
     "text": [
      "Which shape would you like to calculate the area for? Please enter the option number-\n",
      "1. Square\n",
      "2. Rectangle\n",
      "3. Triangle\n",
      "4. Circle\n",
      "Enter Option: _4\n",
      "Enter the value of radius in cm : 3\n",
      "Area of Circle is 28.26 cm.\n"
     ]
    }
   ],
   "source": [
    "def input_num(num):\n",
    "    if num==1:\n",
    "        a = int(input('Enter the length of side in cm: '))\n",
    "        model = 'Square'\n",
    "        area = a ** 2\n",
    "        return model,area\n",
    "    elif num==2:\n",
    "        l = int(input('Enter the length of Rectangle in cm : '))\n",
    "        w = int(input('Enter the width of Rectangle in cm: '))\n",
    "        area = l*w\n",
    "        model = 'Rectangle'\n",
    "        return model,area\n",
    "    elif num == 3:\n",
    "        b = int(input('Enter the Base value in cm : '))\n",
    "        h = int(input('Enter the hieght value in cm : '))\n",
    "        area = (b*h)/2\n",
    "        model = 'Triangle'\n",
    "        return model,area\n",
    "    elif num==4:\n",
    "        r = int(input('Enter the value of radius in cm : '))\n",
    "        area = 3.14*(r**2)\n",
    "        model = 'Circle'\n",
    "        return model,area\n",
    "    else :\n",
    "        print('\\n\\n****** WRONG INPUT *******')\n",
    "        input_num(int(input('Which shape would you like to calculate the area for? Please enter the option number-\\n1. Square\\n2. Rectangle\\n3. Triangle\\n4. Circle\\nEnter Option: _')))\n",
    "        \n",
    "model,area=input_num(int(input('Which shape would you like to calculate the area for? Please enter the option number-\\n1. Square\\n2. Rectangle\\n3. Triangle\\n4. Circle\\nEnter Option: _')))\n",
    "print(f'Area of {model} is {area} cm.')\n",
    "        "
   ]
  }
 ],
 "metadata": {
  "kernelspec": {
   "display_name": "Python 3",
   "language": "python",
   "name": "python3"
  },
  "language_info": {
   "codemirror_mode": {
    "name": "ipython",
    "version": 3
   },
   "file_extension": ".py",
   "mimetype": "text/x-python",
   "name": "python",
   "nbconvert_exporter": "python",
   "pygments_lexer": "ipython3",
   "version": "3.7.6"
  }
 },
 "nbformat": 4,
 "nbformat_minor": 2
}
