{
 "cells": [
  {
   "cell_type": "markdown",
   "metadata": {},
   "source": [
    "\n",
    "# <center>Python Programming </center>\n"
   ]
  },
  {
   "cell_type": "markdown",
   "metadata": {},
   "source": [
    "\n",
    "Create and encrypter in python based on the ceaser cipher. It is a substitution cipher where each character of the original text is shifted a certain number characters in the alphabet. Write a function that would require 2 arguments – the input text to be encrypted and a key. For eg: Given the input text ‘hello’ and the key 3, the resulting encryted text would be ‘khoor’. Here you can see that every character in the string hello is shifted by 3 characters. ‘h’ has shifted to ‘k’, ‘e’ has shifted to ‘h’ and so on. If a key of 5 were used, the resulting string would be ‘mjqqt’. This function should be capable of ignoring any characters which are not alphabets. Th2 character ‘z’ entered b\n",
    "y the user for a key of 3 would result in ‘c’.\n",
    "\n",
    "Usage:<br>\n",
    "**encrypt(‘hello world!’, 3)**<br>\n",
    "**‘khoor zruog!’**\n",
    "\n",
    "Similarly create decrypter which can decode the encryted text when provided the input text and key\n",
    "\n",
    "Usage:<br>\n",
    "**decrypt(‘khoor zruog!’, 3)**<br>\n",
    "**‘hello world!’**\n",
    "\n",
    "For the sake of simplicity you can assume that input solely consists of lowercase alphabets, spaces and punctuation symbols. Numbers in the input text would also be ignored similar to symbols."
   ]
  },
  {
   "cell_type": "code",
   "execution_count": 21,
   "metadata": {},
   "outputs": [
    {
     "name": "stdout",
     "output_type": "stream",
     "text": [
      "Encrypted text : Khoor zruog\n",
      "Decrypted text: Hello world\n"
     ]
    }
   ],
   "source": [
    "alpha = 'abcdefghijklmnopqrstuvwxyzabcdefghijklmnopqrstuvwxyz'\n",
    "Alpha = 'ABCDEFGHIJKLMNOPQRSTUVWXYZABCDEFGHIJKLMNOPQRSTUVWXYZ'\n",
    "def encrypt(msg,key):\n",
    "    key = key%26\n",
    "    num = len(msg)\n",
    "    etext =''\n",
    "    for i in range(num):\n",
    "        if msg[i] in alpha:\n",
    "            n=alpha.find(msg[i])\n",
    "            etext = etext+alpha[n+key]\n",
    "        elif msg[i] in Alpha:\n",
    "            n=Alpha.find(msg[i])\n",
    "            etext = etext+Alpha[n+key]\n",
    "        else:\n",
    "            etext = etext+msg[i]\n",
    "    return etext\n",
    "def decrypt(msg,key):\n",
    "    key = key%26\n",
    "    num = len(msg)\n",
    "    dtext = ''\n",
    "    for i in range(num):\n",
    "        if msg[i] in alpha:\n",
    "            n = alpha.find(msg[i])\n",
    "            dtext = dtext+alpha[n-key]\n",
    "        elif msg[i] in Alpha:\n",
    "            n=Alpha.find(msg[i])\n",
    "            dtext = dtext+Alpha[n-key]\n",
    "        \n",
    "        else:\n",
    "            dtext = dtext+msg[i]\n",
    "    return dtext\n",
    "etxt = encrypt('Hello world',29)\n",
    "dtxt = decrypt('Khoor zruog',29)\n",
    "print(f'Encrypted text : {etxt}')\n",
    "print(f'Decrypted text: {dtxt}')"
   ]
  },
  {
   "cell_type": "markdown",
   "metadata": {},
   "source": [
    " ### With user input"
   ]
  },
  {
   "cell_type": "code",
   "execution_count": 24,
   "metadata": {},
   "outputs": [
    {
     "name": "stdout",
     "output_type": "stream",
     "text": [
      "Enter the action reuired \n",
      "1---> Encrypt your message \n",
      "2---> Decrypt your Message \n",
      "\n",
      "1\n",
      "Enter the Message : Hello World\n",
      "Enter the Key : 3\n",
      "Encrypted text : Khoor Zruog\n"
     ]
    }
   ],
   "source": [
    "alpha = 'abcdefghijklmnopqrstuvwxyzabcdefghijklmnopqrstuvwxyz'\n",
    "Alpha = 'ABCDEFGHIJKLMNOPQRSTUVWXYZABCDEFGHIJKLMNOPQRSTUVWXYZ'\n",
    "def encrypt(msg,key):\n",
    "    num = len(msg)\n",
    "    etext =''\n",
    "    for i in range(num):\n",
    "        if msg[i] in alpha:\n",
    "            n=alpha.find(msg[i])\n",
    "            etext = etext+alpha[n+key]\n",
    "        elif msg[i] in Alpha:\n",
    "            n=Alpha.find(msg[i])\n",
    "            etext = etext+Alpha[n+key]\n",
    "        else:\n",
    "            etext = etext+msg[i]\n",
    "    return etext\n",
    "def decrypt(msg,key):\n",
    "    num = len(msg)\n",
    "    dtext = ''\n",
    "    for i in range(num):\n",
    "        if msg[i] in alpha:\n",
    "            n = alpha.find(msg[i])\n",
    "            dtext = dtext+alpha[n-key]\n",
    "        elif msg[i] in Alpha:\n",
    "            n=Alpha.find(msg[i])\n",
    "            dtext = dtext+Alpha[n-key]\n",
    "        else:\n",
    "            dtext = dtext+msg[i]\n",
    "    return dtext\n",
    "def action(num):\n",
    "    if num==1:\n",
    "        msg = input('Enter the Message : ')\n",
    "        key = int(input('Enter the Key : '))\n",
    "        key = key%26\n",
    "        etext=encrypt(msg,key)\n",
    "        print(f'Encrypted text : {etext}')\n",
    "    elif num==2:\n",
    "        msg = input('Enter the Encrypted Message : ')\n",
    "        key = int(input('Enter the Key : '))\n",
    "        key = key%26\n",
    "        dtext=decrypt(msg,key)\n",
    "        print(f'decrypted text : {dtext}')        \n",
    "    else:\n",
    "        action(int(input('Wrong Selection, Please input correct number \\n1---> Encrypt your message \\n2---> Decrypt your Message \\n\\n')))\n",
    "action(int(input('Enter the action reuired \\n1---> Encrypt your message \\n2---> Decrypt your Message \\n\\n')))"
   ]
  },
  {
   "cell_type": "code",
   "execution_count": null,
   "metadata": {},
   "outputs": [],
   "source": []
  },
  {
   "cell_type": "code",
   "execution_count": null,
   "metadata": {},
   "outputs": [],
   "source": []
  }
 ],
 "metadata": {
  "kernelspec": {
   "display_name": "Python 3",
   "language": "python",
   "name": "python3"
  },
  "language_info": {
   "codemirror_mode": {
    "name": "ipython",
    "version": 3
   },
   "file_extension": ".py",
   "mimetype": "text/x-python",
   "name": "python",
   "nbconvert_exporter": "python",
   "pygments_lexer": "ipython3",
   "version": "3.7.6"
  }
 },
 "nbformat": 4,
 "nbformat_minor": 2
}
